{
 "cells": [
  {
   "cell_type": "markdown",
   "id": "8f9dff83",
   "metadata": {},
   "source": [
    "## HOMGENISATION PRACTICE"
   ]
  },
  {
   "cell_type": "markdown",
   "id": "6132ddfa",
   "metadata": {},
   "source": [
    "Keeping it in line with previous work on the temperature dataset, we have to go by what Zak balliey has done and also what the precent publsihed paper of Joelle has done to the record. \n",
    "What I aim to acheive in THIS script of my code is the homogneisation of many different datasets onto one single dataset. This single dataset is the longest of them all, and it has already been homognesided previously onto the Perth Aiport in 1963. This dataset is called the ACORN-SATv2 which extends from 1910 to 2021 Jun, and so the aim is to build onto this dataset with the other data I have been recieved over time using statsitcal testing, quantile mathcing technqieuces that have already been inbuilt into the homogneisation function. This means that with the more historical esitmaitons based on my estimated function which will be a quit eof a sigifnciant error/ The homogensation and metadata checking has already been concluded in these datasets, but the part where we can homogenise to 1 dataset is still yet to be comopleted.\n",
    "\n",
    "\n",
    "There are several goals I aim to achieve in this section. The first is to simply homogenise the 1897 to 1992 perth regioanal office dataset ot the ACORN-SAY which is relativelt straight forward if we follow past research. Then from there, we know that the 1880 to 1900 perth gardens has already been homogensided to the perth regional office by the 3 year overlap from 1897 to 1900 we can just add that together.\n",
    "\n",
    "From here this means we have a full homogenised dataset from 1880 to 2021. But it does not stop there. We have this historical period from 1830 to 1875, which is from the perth gardens region which shuld closely resemble the 1880 to 1900 dataset in terms of features but not with temperature, this is due to the fact that my daily extreme function overestimates the temperatures between 0.25 to 0.5 depneding on the month in focus. This will need to be accounted for when adjusting to the ACORN-SAT, what we can say is that we lable the 1880-2021 as the P-ACORN-SATv2, which stands for Perth ACORN-SAT Version 2, so in order to mathc th e1830 to 1875 with the 1880 period we need to mean adjust based on another record. WHat i mean is we need to find a record that fills this missing gap from 1875 to 1880 and overlaps with at least 2 or more years either side. This is where the 20 century Reanalysis procut Version 3 will be involved where it will mathc the 30 year mean of each month from 1846 to 1875 of the histroical with the mean of the 20CR, a 20CR mean from 1862 to 1892 to accunt for the midpoint fo the missing data and the 1880 to 1911 monthly means of the P-ACORN-SATv2 and the 20CR. This will hopeuflly then match these means together  in a few small adjustments.\n"
   ]
  },
  {
   "cell_type": "markdown",
   "id": "a88bdae2",
   "metadata": {},
   "source": [
    "### Load the Packages"
   ]
  },
  {
   "cell_type": "code",
   "execution_count": null,
   "id": "357e7dab",
   "metadata": {},
   "outputs": [],
   "source": []
  },
  {
   "cell_type": "markdown",
   "id": "d2369341",
   "metadata": {},
   "source": [
    "### Load the Temperature Data"
   ]
  },
  {
   "cell_type": "code",
   "execution_count": null,
   "id": "0745df22",
   "metadata": {},
   "outputs": [],
   "source": []
  },
  {
   "cell_type": "code",
   "execution_count": null,
   "id": "3759ee43",
   "metadata": {},
   "outputs": [],
   "source": []
  }
 ],
 "metadata": {
  "kernelspec": {
   "display_name": "Python 3 (ipykernel)",
   "language": "python",
   "name": "python3"
  },
  "language_info": {
   "codemirror_mode": {
    "name": "ipython",
    "version": 3
   },
   "file_extension": ".py",
   "mimetype": "text/x-python",
   "name": "python",
   "nbconvert_exporter": "python",
   "pygments_lexer": "ipython3",
   "version": "3.9.13"
  }
 },
 "nbformat": 4,
 "nbformat_minor": 5
}
