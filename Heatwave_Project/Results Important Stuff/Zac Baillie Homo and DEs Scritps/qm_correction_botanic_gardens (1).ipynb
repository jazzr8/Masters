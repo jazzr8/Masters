{
 "cells": [
  {
   "cell_type": "code",
   "execution_count": null,
   "metadata": {},
   "outputs": [],
   "source": [
    "import pandas as pd\n",
    "import numpy as np\n",
    "import matplotlib.pyplot as plt\n",
    "from scipy.stats import norm\n",
    "from bisect import *\n",
    "import random\n",
    "\n",
    "def qm_transfer(reference,uncorrected,value):\n",
    "    #reference = vector of values representing the percentiles of the reference data\n",
    "    #uncorrected = vector of values representing the percentiles of the data to be corrected\n",
    "    #value = Value to be adjusted\n",
    "    \n",
    "    #  \"\"\"Use source and destination percentiles to get the homogenised value.\n",
    "    ## From Linden Ashcroft's R script (adapted from BoM Python script)\n",
    "    #Given two lists of values representing, for example,\n",
    "    #temperatures at the 5th to 95th percentiles, and a value\n",
    "    #representing an amount to be homogenised, return the\n",
    "    #homogenised value.\n",
    "    #\"\"\"\n",
    "    \n",
    "    if pd.isna(value):\n",
    "        return(np.nan)\n",
    "    \n",
    "    if value < round(uncorrected.iloc[0],3):\n",
    "        return value + (reference.iloc[0] - uncorrected.iloc[0])\n",
    "    \n",
    "        #if the value is less than the lowest percentile, \n",
    "        #adjustment is difference between\n",
    "        #the lowest percentile of the two\n",
    "    \n",
    "    if value > round(uncorrected.iloc[-1],3):\n",
    "        return value + (reference.iloc[-1] - uncorrected.iloc[-1])\n",
    "    \n",
    "        #if the value is greater than the highest percentile, \n",
    "        #adjustment is difference between\n",
    "        #the highest percentile of the two\n",
    "    \n",
    "    ndx = min(bisect_left(np.array(uncorrected), value), len(uncorrected) - 1)\n",
    "    \n",
    "    num_equal = np.count_nonzero(np.array(round(uncorrected,3) == value))\n",
    "    \n",
    "    if num_equal == 1:\n",
    "        return value + (reference.iloc[ndx] - uncorrected.iloc[ndx])\n",
    "        #If the value is an exact percentile value, \n",
    "        #then the adjustment is the difference between that percentile\n",
    "    elif num_equal > 1:\n",
    "        offset = random.randint(1, num_equal) - 1\n",
    "        return value + (reference.iloc[ndx + offset] - uncorrected.iloc[ndx + offset])\n",
    "    \n",
    "        #If there are two percentiles with the value, \n",
    "        #pick one at random and use that to find the adjustment\n",
    "        \n",
    "    else:\n",
    "        return (((reference.iloc[ndx] - reference.iloc[ndx-1])/\n",
    "                   (uncorrected.iloc[ndx] - uncorrected.iloc[ndx-1]))*\n",
    "                  (value - uncorrected.iloc[ndx-1]) + reference.iloc[ndx-1])\n",
    "    \n",
    "        #Otherwise, find the percentiles 'bin' that the value fits in, \n",
    "        #subtract the Glaisher percentile value from the value of interest\n",
    "        #multiply that by a ratio of the two percentiles \n",
    "        #(if they are changing at the same rate this term will be 1) \n",
    "        #and add the Stevenson screen value for that percentile value\n"
   ]
  },
  {
   "cell_type": "code",
   "execution_count": null,
   "metadata": {},
   "outputs": [],
   "source": [
    "inpath = '/home/561/zb8411/Documents/data/observational/perth/temperature/'\n",
    "\n",
    "historical = pd.read_csv(inpath + 'perthgardens_daily_qc_1880-1900.csv',\n",
    "                         index_col=0, parse_dates=True, names=['tmax','tmin'], header=0)\n",
    "\n",
    "modern = pd.read_csv(inpath + 'perthregionaloffice_daily_1897-1992.csv', \n",
    "                     index_col=0, parse_dates=True, names=['tmax','tmin'], header=0)"
   ]
  },
  {
   "cell_type": "code",
   "execution_count": null,
   "metadata": {},
   "outputs": [],
   "source": [
    "idx = historical.index.intersection(modern.index)\n",
    "modern_overlap = modern.loc[idx]\n",
    "historical_overlap = historical.loc[idx]"
   ]
  },
  {
   "cell_type": "code",
   "execution_count": null,
   "metadata": {},
   "outputs": [],
   "source": [
    "historical"
   ]
  },
  {
   "cell_type": "code",
   "execution_count": null,
   "metadata": {},
   "outputs": [],
   "source": [
    "timestamp = historical.columns\n",
    "correctedDf = historical.copy()\n",
    "for col in historical:\n",
    "    historicalPct = historical_overlap[col].quantile(np.arange(0.05,1,0.05))\n",
    "    modernPct = modern_overlap[col].quantile(np.arange(0.05,1,0.05))\n",
    "    correctedList = []\n",
    "    for j in range(len(historical[col])):\n",
    "        correctedList.append(qm_transfer(modernPct,historicalPct,historical[col][j]))\n",
    "    correctedDf[col + '_corrected'] = correctedList\n",
    "    del historicalPct, modernPct, correctedList\n",
    "corrected = correctedDf.drop(correctedDf.columns[0:len(historical.columns)], axis=1)\n",
    "corrected.columns = corrected.columns.str.replace('_corrected','')\n",
    "#uncorrected = data.copy()\n",
    "#data.update(corrected)"
   ]
  },
  {
   "cell_type": "code",
   "execution_count": null,
   "metadata": {},
   "outputs": [],
   "source": [
    "corrected"
   ]
  },
  {
   "cell_type": "code",
   "execution_count": null,
   "metadata": {},
   "outputs": [],
   "source": [
    "historical"
   ]
  },
  {
   "cell_type": "code",
   "execution_count": null,
   "metadata": {},
   "outputs": [],
   "source": [
    "modern = pd.read_csv(inpath + 'perthregionaloffice_daily_1897-1992.csv', \n",
    "                     index_col=0, parse_dates=True, names=['tmax','tmin'], header=0)"
   ]
  },
  {
   "cell_type": "code",
   "execution_count": null,
   "metadata": {},
   "outputs": [],
   "source": [
    "f = plt.figure(figsize=(12,12))\n",
    "\n",
    "ax = f.add_subplot(211)\n",
    "\n",
    "ax.plot(modern['tmax'].groupby(modern.index.month).mean(),  label = '1897-1992',c='k',ls=':')\n",
    "ax.plot(corrected['tmax'].groupby(corrected.index.month).mean(),  label = 'Corrected',c='k')\n",
    "ax.plot(historical['tmax'].groupby(historical.index.month).mean(),  label = 'Uncorrected',c='k',ls='--')\n",
    "\n",
    "ax.set_ylabel('Maximum daily temperature (C)', fontsize=18)\n",
    "\n",
    "y = np.arange(1,13,1)\n",
    "labels = [\"Jan\",\"Feb\",\"Mar\",\"Apr\",\"May\",\"Jun\",\"Jul\",\"Aug\",\"Sep\",\"Oct\",\"Nov\",\"Dec\"]\n",
    "ax.set_xticks(y)\n",
    "ax.set_xticklabels(labels,fontsize=12)\n",
    "plt.yticks(fontsize=12)\n",
    "plt.tick_params(labelright=True,right=True)\n",
    "\n",
    "ax.tick_params(axis='both', which='major', labelsize=14)\n",
    "\n",
    "ax.text(10.5,26,'A) Tmax',fontweight='bold', fontsize=14)\n",
    "\n",
    "ax.legend(loc='best', fontsize=12)\n",
    "\n",
    "ax.set_xlim([1, 12])\n",
    "\n",
    "ax2 = f.add_subplot(212)\n",
    "\n",
    "#plt.figure(figsize=(16,7))\n",
    "\n",
    "ax2.plot(modern['tmin'].groupby(modern.index.month).mean(),  label = '1897-1992',c='k',ls=':')\n",
    "ax2.plot(corrected['tmin'].groupby(corrected.index.month).mean(),  label = 'Corrected',c='k')\n",
    "ax2.plot(historical['tmin'].groupby(historical.index.month).mean(),  label = 'Uncorrected',c='k',ls='--')\n",
    "\n",
    "#plt.plot(concatDf['10:00_corrected'].groupby(concatDf.index.month).mean(),  label = '1843-1862 corrected mean')\n",
    "#plt.plot(subset['10:00'].groupby(subset.index.month).mean(),  label = '1843-1862 uncorrected mean')\n",
    "\n",
    "ax2.legend(loc='best', fontsize=12)\n",
    "\n",
    "#ax2.title.set_text('4pm monthly mean temperatures (corrected/uncorrected)')\n",
    "ax2.set_xlabel('Month', fontsize=18)\n",
    "ax2.set_ylabel('Minimum daily temperature (C)', fontsize=18)\n",
    "\n",
    "ax2.set_xticks(y)\n",
    "ax2.set_xticklabels(labels,fontsize=14)\n",
    "plt.yticks(fontsize=12)\n",
    "plt.tick_params(labelright=True,right=True)\n",
    "\n",
    "ax2.legend(loc='best', fontsize=14)\n",
    "\n",
    "ax2.set_xlim([1, 12])\n",
    "#ax2.text(10.4,29.15,'B) Tmin',fontweight='bold', fontsize=14)\n",
    "\n",
    "ax2.tick_params(axis='both', which='major', labelsize=14)\n",
    "\n",
    "f.tight_layout()\n",
    "\n",
    "f.patch.set_facecolor('white')\n",
    "\n",
    "#plt.savefig('monthly_mean_temp_pre-post_correction_10am_4pm.tif', dpi=600, format='tif', bbox_inches='tight',facecolor='white',pil_kwargs={\"compression\": \"tiff_lzw\"})"
   ]
  },
  {
   "cell_type": "code",
   "execution_count": null,
   "metadata": {},
   "outputs": [],
   "source": [
    "fourpm"
   ]
  },
  {
   "cell_type": "code",
   "execution_count": null,
   "metadata": {},
   "outputs": [],
   "source": [
    "np.arange(1,13,1)"
   ]
  },
  {
   "cell_type": "code",
   "execution_count": null,
   "metadata": {},
   "outputs": [],
   "source": [
    "plt.plot((corrected['tmax'] - historical['tmax']).resample('M').mean())"
   ]
  },
  {
   "cell_type": "code",
   "execution_count": null,
   "metadata": {},
   "outputs": [],
   "source": [
    "modern"
   ]
  },
  {
   "cell_type": "code",
   "execution_count": null,
   "metadata": {},
   "outputs": [],
   "source": [
    "corrected.to_csv(inpath + 'perthgardens_daily_qc_corrected_test_1880-1900.csv')"
   ]
  },
  {
   "cell_type": "code",
   "execution_count": null,
   "metadata": {},
   "outputs": [],
   "source": [
    "f = plt.figure(figsize=(15,5))\n",
    "plt.plot(corrected['tmax'].loc[idx], label='Corrected')\n",
    "#plt.plot(modern['tmax'].loc[idx], label='Perth RO')\n",
    "plt.plot(historical['tmax'].loc[idx], label='Uncorrected')\n",
    "plt.legend()"
   ]
  },
  {
   "cell_type": "code",
   "execution_count": null,
   "metadata": {},
   "outputs": [],
   "source": []
  }
 ],
 "metadata": {
  "kernelspec": {
   "display_name": "Python 3 (ipykernel)",
   "language": "python",
   "name": "python3"
  },
  "language_info": {
   "codemirror_mode": {
    "name": "ipython",
    "version": 3
   },
   "file_extension": ".py",
   "mimetype": "text/x-python",
   "name": "python",
   "nbconvert_exporter": "python",
   "pygments_lexer": "ipython3",
   "version": "3.9.13"
  }
 },
 "nbformat": 4,
 "nbformat_minor": 4
}
