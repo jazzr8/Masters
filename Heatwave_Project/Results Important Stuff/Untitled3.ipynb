{
 "cells": [
  {
   "cell_type": "markdown",
   "id": "166b07df",
   "metadata": {},
   "source": [
    "# The Application of the Tmax/Tmin Estimation Function, The Homogenisation Function and the Heatwave Function"
   ]
  },
  {
   "cell_type": "markdown",
   "id": "eef51db1",
   "metadata": {},
   "source": [
    "## Import Packages and Function"
   ]
  },
  {
   "cell_type": "code",
   "execution_count": 12,
   "id": "ca337369",
   "metadata": {},
   "outputs": [
    {
     "ename": "SyntaxError",
     "evalue": "invalid syntax (DE_Est_Test.py, line 519)",
     "output_type": "error",
     "traceback": [
      "Traceback \u001b[1;36m(most recent call last)\u001b[0m:\n",
      "  File \u001b[0;32m~\\anaconda3\\envs\\MASTERS_JARRAD\\lib\\site-packages\\IPython\\core\\interactiveshell.py:3398\u001b[0m in \u001b[0;35mrun_code\u001b[0m\n    exec(code_obj, self.user_global_ns, self.user_ns)\n",
      "\u001b[1;36m  Input \u001b[1;32mIn [12]\u001b[1;36m in \u001b[1;35m<cell line: 4>\u001b[1;36m\u001b[0m\n\u001b[1;33m    import DE_Est_Test\u001b[0m\n",
      "\u001b[1;36m  File \u001b[1;32m~\\Desktop\\Masters\\Heatwave_Project\\Results Important Stuff\\DE_Est_Test.py:519\u001b[1;36m\u001b[0m\n\u001b[1;33m    for\u001b[0m\n\u001b[1;37m        ^\u001b[0m\n\u001b[1;31mSyntaxError\u001b[0m\u001b[1;31m:\u001b[0m invalid syntax\n"
     ]
    }
   ],
   "source": [
    "import os\n",
    "import csv\n",
    "import Heatwaves_Test as HW\n",
    "import DE_Est_Test "
   ]
  },
  {
   "cell_type": "markdown",
   "id": "d8607de2",
   "metadata": {},
   "source": [
    "## Using the Estimation Function"
   ]
  },
  {
   "cell_type": "code",
   "execution_count": null,
   "id": "441e4660",
   "metadata": {},
   "outputs": [],
   "source": []
  },
  {
   "cell_type": "markdown",
   "id": "fd1b6205",
   "metadata": {},
   "source": [
    "## Using the Homogenisation Function"
   ]
  },
  {
   "cell_type": "code",
   "execution_count": 3,
   "id": "a6b55455",
   "metadata": {},
   "outputs": [
    {
     "ename": "NameError",
     "evalue": "name 'Estimated' is not defined",
     "output_type": "error",
     "traceback": [
      "\u001b[1;31m---------------------------------------------------------------------------\u001b[0m",
      "\u001b[1;31mNameError\u001b[0m                                 Traceback (most recent call last)",
      "Input \u001b[1;32mIn [3]\u001b[0m, in \u001b[0;36m<cell line: 29>\u001b[1;34m()\u001b[0m\n\u001b[0;32m      1\u001b[0m \u001b[38;5;66;03m#Have not done\u001b[39;00m\n\u001b[0;32m      2\u001b[0m \n\u001b[0;32m      3\u001b[0m \u001b[38;5;66;03m#Homgenise 1830-1875\u001b[39;00m\n\u001b[1;32m   (...)\u001b[0m\n\u001b[0;32m     13\u001b[0m \u001b[38;5;66;03m#This is to be done for each month individually, or each day like the CDP and then matched with the difference at 1877 \u001b[39;00m\n\u001b[0;32m     14\u001b[0m \u001b[38;5;66;03m#but it could also be like adjust the homogenised by the mean average using the 20CR so it matches the ACORN-SAT\u001b[39;00m\n\u001b[1;32m---> 29\u001b[0m Homogenised \u001b[38;5;241m=\u001b[39m \u001b[43mEstimated\u001b[49m\n",
      "\u001b[1;31mNameError\u001b[0m: name 'Estimated' is not defined"
     ]
    }
   ],
   "source": [
    "#Have not done\n",
    "\n",
    "#Homgenise 1830-1875\n",
    "\n",
    "#Homogenise 1880-2021\n",
    "\n",
    "#Homogenise 20CR 1875-1880\n",
    "#This one will be \n",
    "#30 year average between 1862-1892\n",
    "#1877\n",
    "#Overlapping 1880-1910\n",
    "#Overlapping 1845-1875\n",
    "#This is to be done for each month individually, or each day like the CDP and then matched with the difference at 1877 \n",
    "#but it could also be like adjust the homogenised by the mean average using the 20CR so it matches the ACORN-SAT\n",
    "\n",
    "\n",
    "\n",
    "\n",
    "\n",
    "\n",
    "\n",
    "\n",
    "\n",
    "\n",
    "\n",
    "\n",
    "\n",
    "\n",
    "Homogenised = Estimated"
   ]
  },
  {
   "cell_type": "markdown",
   "id": "0d9d4272",
   "metadata": {},
   "source": [
    "## Using the Heatwave Function"
   ]
  },
  {
   "cell_type": "code",
   "execution_count": null,
   "id": "af11cf09",
   "metadata": {},
   "outputs": [],
   "source": []
  }
 ],
 "metadata": {
  "kernelspec": {
   "display_name": "Python 3 (ipykernel)",
   "language": "python",
   "name": "python3"
  },
  "language_info": {
   "codemirror_mode": {
    "name": "ipython",
    "version": 3
   },
   "file_extension": ".py",
   "mimetype": "text/x-python",
   "name": "python",
   "nbconvert_exporter": "python",
   "pygments_lexer": "ipython3",
   "version": "3.9.13"
  }
 },
 "nbformat": 4,
 "nbformat_minor": 5
}
