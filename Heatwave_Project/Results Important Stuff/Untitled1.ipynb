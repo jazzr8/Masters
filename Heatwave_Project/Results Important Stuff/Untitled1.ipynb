{
 "cells": [
  {
   "cell_type": "markdown",
   "id": "3554dc24",
   "metadata": {},
   "source": [
    "# Daylight Savings Shifter Function"
   ]
  },
  {
   "cell_type": "code",
   "execution_count": null,
   "id": "a8cd489b",
   "metadata": {},
   "outputs": [],
   "source": [
    "def Daylight_Savings(data, start_dates, end_dates):\n",
    "    \n",
    "\n",
    "    Q = 0\n",
    "    for i in start_dates:\n",
    "        Dates.loc[''.format:()''.fomat()] = start_dates.dt.hour.shift+!\n",
    "    \n",
    "    \n",
    "    \n",
    "    \n",
    "    \n",
    "    \n",
    "    \n",
    "    \n",
    "    \n",
    "    "
   ]
  }
 ],
 "metadata": {
  "kernelspec": {
   "display_name": "Python 3 (ipykernel)",
   "language": "python",
   "name": "python3"
  },
  "language_info": {
   "codemirror_mode": {
    "name": "ipython",
    "version": 3
   },
   "file_extension": ".py",
   "mimetype": "text/x-python",
   "name": "python",
   "nbconvert_exporter": "python",
   "pygments_lexer": "ipython3",
   "version": "3.9.13"
  }
 },
 "nbformat": 4,
 "nbformat_minor": 5
}
