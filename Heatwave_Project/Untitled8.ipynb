{
 "cells": [
  {
   "cell_type": "markdown",
   "id": "9ac18859",
   "metadata": {},
   "source": [
    "# The Results"
   ]
  },
  {
   "cell_type": "markdown",
   "id": "960208dd",
   "metadata": {},
   "source": [
    " This is the beginning on my extensive analysis of the results I have managed to gather for my MASTERS research. I will use all the functions I have at hand to dive down deep into each code, each function, each line of code as well to provide the best analysis for my thesis. I will generate a story that creates the tale of how to not only identify heatwaves and intepret them with my definition, but to develop a suitable temperature estimation for records that may only have solitary days worth of sub-daily data. This actually helps out any continous type of estimations as they will be able to find maximum and minimum (tmax and tmin) temperatures that are not able to be found using higher quality methods. I do know my method of estimating temperatures is highly flawed, but if I had time to really develop a regressive approach to estimate tmax and tmin I would spend more time on it and this could be a potential research project, PhD level or Masters for me or someone else as I do believe its possible to do something like this for all records unable to create a continous plot. \n",
    "\n",
    "Furthermore, no heatwvae definition is the perfect one and can be married into every meteorlogical group or warning system. Everything and everyone sees heatwaves definitely and are affected differently, therefore like models, 'all models are bad but some can be useful', in this case all heatwave definitions are bad at describpting what a heatwave is, but some can be useful to gain an insight into, either deadliness, how extreme, duration, infrastruture or agriculture damages, but none can actually satisify all there is in the world. My definition looks at how structures and people adapt to heatwaves, therefore the possibility of missing key heatwave events is likely as another definition could elude to a heatwave occurring a few days after a previous heatwave occurs but in my definition this isnt capturued due to how the moving 30 day mean acts to bring it back to the norm or in this case a heat stress value of 0 therefore effectively cutting the heatwave.\n",
    "\n",
    "People tend to adapt to the heat 2 to 4 weeks after the heat enters this new state therefore the definition accounts for this, therefore for example a hot period occurs in mid-Jan, if infacg it was a hot summer, to get a chance of a heatwave occruing in that mid-jan period, it must stand out compared to the previous 30 days worth of temperature. \n",
    "\n",
    "Anyway this will all be further discussed as I move through my results on this page. I will literally write down all my thoughts, ideas and analysis and go down many rabbit holes, as I continue to uncover new things."
   ]
  },
  {
   "cell_type": "markdown",
   "id": "1868aac6",
   "metadata": {},
   "source": [
    "# 1. 20CR map"
   ]
  },
  {
   "cell_type": "markdown",
   "id": "3530c276",
   "metadata": {},
   "source": [
    "In order to build my results and provide my opinion on the 20CR, I need to undertsand where and what the gridbox used for the 20th Century Reanalsys (20CR) looks like. Depending on certian factors such as "
   ]
  }
 ],
 "metadata": {
  "kernelspec": {
   "display_name": "Python 3 (ipykernel)",
   "language": "python",
   "name": "python3"
  },
  "language_info": {
   "codemirror_mode": {
    "name": "ipython",
    "version": 3
   },
   "file_extension": ".py",
   "mimetype": "text/x-python",
   "name": "python",
   "nbconvert_exporter": "python",
   "pygments_lexer": "ipython3",
   "version": "3.9.13"
  }
 },
 "nbformat": 4,
 "nbformat_minor": 5
}
