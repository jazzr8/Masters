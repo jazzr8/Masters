{
 "cells": [
  {
   "cell_type": "markdown",
   "metadata": {},
   "source": [
    "# Energy Balance Equation"
   ]
  },
  {
   "cell_type": "markdown",
   "metadata": {},
   "source": [
    "## IPython Magic Commands"
   ]
  },
  {
   "cell_type": "code",
   "execution_count": 1,
   "metadata": {},
   "outputs": [],
   "source": [
    "%matplotlib inline\n",
    "# don't forget about '%matplotlib notebook' for more interactive plots"
   ]
  },
  {
   "cell_type": "markdown",
   "metadata": {},
   "source": [
    "## Imports\n",
    "\n",
    "As a reminder, the first code cell will contain our required imports. These can be ignored if you don't want to know the details, just make sure you run the cell by clicking in it and hitting <kbd>shift</kbd> + <kbd>enter</kbd>."
   ]
  },
  {
   "cell_type": "code",
   "execution_count": 5,
   "metadata": {},
   "outputs": [],
   "source": [
    "# NBVAL_IGNORE_OUTPUT\n",
    "\n",
    "# for the interested: it is possible to\n",
    "# import multiple modules from the same\n",
    "# package in one line if you separate\n",
    "# them with a comma like we have done here\n",
    "from os.path import join, expanduser\n",
    "\n",
    "\n",
    "import numpy as np\n",
    "import pandas as pd\n",
    "import scipy.optimize\n",
    "import tqdm.autonotebook as tqdman\n",
    "from pymagicc.io import MAGICCData\n",
    "\n",
    "import matplotlib.pyplot as plt\n",
    "\n",
    "import utils\n",
    "\n",
    "plt.style.use(\"bmh\")"
   ]
  },
  {
   "cell_type": "code",
   "execution_count": 6,
   "metadata": {},
   "outputs": [],
   "source": [
    "# here we turn off some distracting warnings which can appear\n",
    "import warnings\n",
    "import matplotlib\n",
    "\n",
    "warnings.simplefilter(\"ignore\", matplotlib.MatplotlibDeprecationWarning)"
   ]
  },
  {
   "cell_type": "markdown",
   "metadata": {},
   "source": [
    "## Constants"
   ]
  },
  {
   "cell_type": "code",
   "execution_count": 7,
   "metadata": {},
   "outputs": [],
   "source": [
    "DATA_PATH_COMMON = expanduser(join(\"~\", \"erth90026_shared\", \"data\"))\n",
    "DATA_PATH_ME = expanduser(join(\"~\", \"CCCM-erth90026-data\"))\n",
    "HADCRUT4_ANNUAL_MEAN_TXT = join(\n",
    "    DATA_PATH_COMMON, \"hadcrut4\", \"HadCRUT.4.6.0.0.annual_ns_avg.txt\"\n",
    ")"
   ]
  },
  {
   "cell_type": "markdown",
   "metadata": {},
   "source": [
    "## Summary of Previous Exercise\n",
    "\n",
    "- Copy the notebooks before getting started\n",
    "- Google, your classmates and this notebook are resources which you should turn to often\n",
    "- Ask questions if the code doesn't make sense or you are not sure how to do something. We want you to spend your time thinking about climate and models, with code only being a tool"
   ]
  },
  {
   "cell_type": "markdown",
   "metadata": {},
   "source": [
    "## Historical Global-mean Temperature\n",
    "\n",
    "### Background\n",
    "\n",
    "Global-mean temperature is a key policy metric. In particular, it features prominently in The Paris Agreement, which sets an international framework to avoid the worst effects of anthropogenic climate change. Its Article 2 contains the goal \"to limit global temperature increase to well below 2 °C above pre-industrial levels and pursue efforts to limit the temperature increase to 1.5 °C\" ([full text here](https://unfccc.int/sites/default/files/english_paris_agreement.pdf)).\n",
    "\n",
    "It is important to compare model simulations of global-mean temperature with observations. These comparisons provide some validation of the models we use for future projections. This is vitally important as all models are approximations of reality (aka 'all models are wrong, some models are useful').\n",
    "\n",
    "<div class=\"alert alert-info\">\n",
    "  <i>Info!</i> As will be discussed later in the course, observations of global-mean temperature are not that simple and they are often a contentious issue. For simplicity, we initially only use one estimate. Later in the course we will add others.\n",
    "</div>\n",
    "\n",
    "### Reading data\n",
    "\n",
    "We start by writing a simple function to load observed global-mean temperatures. You have seen how to read data in the previous notebook. Once again we simply give you the code to load observations. You should take some time to see if you can understand the code e.g. where is the function defined, where is the function used, how is the function used, what do each of the commands mean. Later in the course you will start writing your own reading functions."
   ]
  },
  {
   "cell_type": "code",
   "execution_count": 8,
   "metadata": {},
   "outputs": [
    {
     "data": {
      "text/html": [
       "<div>\n",
       "<style scoped>\n",
       "    .dataframe tbody tr th:only-of-type {\n",
       "        vertical-align: middle;\n",
       "    }\n",
       "\n",
       "    .dataframe tbody tr th {\n",
       "        vertical-align: top;\n",
       "    }\n",
       "\n",
       "    .dataframe thead th {\n",
       "        text-align: right;\n",
       "    }\n",
       "</style>\n",
       "<table border=\"1\" class=\"dataframe\">\n",
       "  <thead>\n",
       "    <tr style=\"text-align: right;\">\n",
       "      <th></th>\n",
       "      <th>Temperature (rel. to 1961-1990) (K)</th>\n",
       "    </tr>\n",
       "    <tr>\n",
       "      <th>Year</th>\n",
       "      <th></th>\n",
       "    </tr>\n",
       "  </thead>\n",
       "  <tbody>\n",
       "    <tr>\n",
       "      <th>1850</th>\n",
       "      <td>-0.373</td>\n",
       "    </tr>\n",
       "    <tr>\n",
       "      <th>1851</th>\n",
       "      <td>-0.218</td>\n",
       "    </tr>\n",
       "    <tr>\n",
       "      <th>1852</th>\n",
       "      <td>-0.228</td>\n",
       "    </tr>\n",
       "    <tr>\n",
       "      <th>1853</th>\n",
       "      <td>-0.269</td>\n",
       "    </tr>\n",
       "    <tr>\n",
       "      <th>1854</th>\n",
       "      <td>-0.248</td>\n",
       "    </tr>\n",
       "    <tr>\n",
       "      <th>...</th>\n",
       "      <td>...</td>\n",
       "    </tr>\n",
       "    <tr>\n",
       "      <th>2015</th>\n",
       "      <td>0.763</td>\n",
       "    </tr>\n",
       "    <tr>\n",
       "      <th>2016</th>\n",
       "      <td>0.797</td>\n",
       "    </tr>\n",
       "    <tr>\n",
       "      <th>2017</th>\n",
       "      <td>0.677</td>\n",
       "    </tr>\n",
       "    <tr>\n",
       "      <th>2018</th>\n",
       "      <td>0.597</td>\n",
       "    </tr>\n",
       "    <tr>\n",
       "      <th>2019</th>\n",
       "      <td>0.731</td>\n",
       "    </tr>\n",
       "  </tbody>\n",
       "</table>\n",
       "<p>170 rows × 1 columns</p>\n",
       "</div>"
      ],
      "text/plain": [
       "      Temperature (rel. to 1961-1990) (K)\n",
       "Year                                     \n",
       "1850                               -0.373\n",
       "1851                               -0.218\n",
       "1852                               -0.228\n",
       "1853                               -0.269\n",
       "1854                               -0.248\n",
       "...                                   ...\n",
       "2015                                0.763\n",
       "2016                                0.797\n",
       "2017                                0.677\n",
       "2018                                0.597\n",
       "2019                                0.731\n",
       "\n",
       "[170 rows x 1 columns]"
      ]
     },
     "metadata": {},
     "output_type": "display_data"
    },
    {
     "data": {
      "text/plain": [
       "<AxesSubplot:xlabel='Year'>"
      ]
     },
     "execution_count": 8,
     "metadata": {},
     "output_type": "execute_result"
    },
    {
     "data": {
      "image/png": "[encoded data removed]",
      "text/plain": [
       "<Figure size 432x288 with 1 Axes>"
      ]
     },
     "metadata": {
      "needs_background": "light"
     },
     "output_type": "display_data"
    }
   ],
   "source": [
    "def load_global_mean_temp(file_to_read):\n",
    "    temperature_data = pd.read_csv(\n",
    "        file_to_read,\n",
    "        index_col=0,\n",
    "        header=None,\n",
    "        delim_whitespace=True,\n",
    "        usecols=[0, 1],\n",
    "        names=[\"Year\", \"Temperature (rel. to 1961-1990) (K)\"],\n",
    "    )\n",
    "    return temperature_data\n",
    "\n",
    "\n",
    "# Have a look at the output from running our load function.\n",
    "# You'll see that our load function returns a pandas dataframe.\n",
    "display(load_global_mean_temp(HADCRUT4_ANNUAL_MEAN_TXT))\n",
    "\n",
    "# Make a plot of global-mean temperatures over time\n",
    "load_global_mean_temp(HADCRUT4_ANNUAL_MEAN_TXT).plot()"
   ]
  },
  {
   "cell_type": "markdown",
   "metadata": {},
   "source": [
    "## The Energy Balance Equation\n",
    "\n",
    "Now that we have some temperature observations with which to validate our model we are going to start playing with a simple model. (As a reminder, background information on this simple model can for example be found in [Gregory and Forster (2008)](https://doi.org/10.1029/2008JD010405) or also earlier literature as in [Schneider and Thompson (1981)](https://doi.org/10.1029/JC086iC04p03135), each time with slightly different notation. \n",
    "\n",
    "We start with the simple energy balance equation from the lecture. \n",
    "\n",
    "$$\\Delta Q_G = \\lambda_G \\Delta T_{G} + \\frac{dH}{dt} $$\n",
    "\n",
    "- $\\Delta Q_G$ is the global-mean radiative forcing at\n",
    "the tropopause (W.m<sup>-2</sup>)\n",
    "- $\\lambda_G$ is the global-mean feedback factor\n",
    "(W.m<sup>-2</sup>.K<sup>-1</sup>)\n",
    "- $\\Delta T_G$ is the surface\n",
    "temperature pertubation (K)\n",
    "- $H$ is ocean heat content per unit area (J.m<sup>-2</sup>)\n",
    "- $t$ is time (s)"
   ]
  },
  {
   "cell_type": "markdown",
   "metadata": {},
   "source": [
    "Initially we are only going to consider the equilibrium case i.e. the case in which $\\frac{dH}{dt} = 0$. In this case our energy balance equation becomes very simple\n",
    "\n",
    "$$\\Delta Q_G = \\lambda_G \\Delta T_{G}$$\n",
    "\n",
    "In the next cell, we are going to write a function which takes radiative forcing and global-mean feedback factor as input and returns the corresponding temperature change. This is often referred to as 'coding up an equation' i.e. implementing a mathematical equation in code."
   ]
  },
  {
   "cell_type": "markdown",
   "metadata": {},
   "source": [
    "<div class=\"alert alert-warning\">\n",
    "  <i>Warning!</i> 'lambda' is a special keyword in  python so you can't call your input argument that. You  can tell that lambda is a special keyword because it turns green if you type it in a code block (to try this, make a new code cell by clicking on Insert --> Insert Cell Below, then type 'lambda').\n",
    "</div>"
   ]
  },
  {
   "cell_type": "markdown",
   "metadata": {},
   "source": [
    "<div class=\"alert alert-info\">\n",
    "  <i>Info!</i> To uncomment lines, use <kbd>cmd</kbd> + <kbd>/</kbd> on a mac or <kbd>Ctrl</kbd> + <kbd>/</kbd> on windows.\n",
    "</div>"
   ]
  },
  {
   "cell_type": "code",
   "execution_count": 11,
   "metadata": {
    "solution2": "hidden",
    "solution2_first": true
   },
   "outputs": [],
   "source": [
    "def simple_energy_balance(Q, feedback_factor):\n",
    "    # uncomment the lines below and then complete the function\n",
    "    # use the line below as a template for writing your own code\n",
    "    #     temperature = calculation_of_temperature_goes_here\n",
    "    temperature = Q/feedback_factor\n",
    "    return temperature"
   ]
  },
  {
   "cell_type": "code",
   "execution_count": 12,
   "metadata": {
    "solution2": "hidden"
   },
   "outputs": [],
   "source": [
    "def simple_energy_balance(Q, feedback_factor):\n",
    "    # as shown by the equation above, temperature is given by Q divided by the feedback factor aka lambda\n",
    "    temperature = Q / feedback_factor\n",
    "    return temperature"
   ]
  },
  {
   "cell_type": "markdown",
   "metadata": {},
   "source": [
    "## Investigating the Behaviour of Our Simple Model"
   ]
  },
  {
   "cell_type": "markdown",
   "metadata": {},
   "source": [
    "### Example Usage\n",
    "\n",
    "To give you some code which you can then tweak yourself, we provide two examples of how to run and plot the model."
   ]
  },
  {
   "cell_type": "markdown",
   "metadata": {},
   "source": [
    "#### Simple example usage"
   ]
  },
  {
   "cell_type": "code",
   "execution_count": 13,
   "metadata": {},
   "outputs": [],
   "source": [
    "# define our radiative forcing\n",
    "Q = np.arange(0, 8, 0.025)\n",
    "\n",
    "# start a dataframe for radiative forcing\n",
    "world_df = utils.start_world_df(Q)"
   ]
  },
  {
   "cell_type": "markdown",
   "metadata": {},
   "source": [
    "In the cell below, notice how we use the function we wrote previously rather than writing out the same calculation in multiple places (i.e. we avoid copying code)."
   ]
  },
  {
   "cell_type": "code",
   "execution_count": 14,
   "metadata": {},
   "outputs": [],
   "source": [
    "# calculate the temperature change, putting the result in our dataframe\n",
    "world_df[\"T\"] = simple_energy_balance(Q, feedback_factor=1.36)"
   ]
  },
  {
   "cell_type": "code",
   "execution_count": 15,
   "metadata": {},
   "outputs": [
    {
     "data": {
      "text/plain": [
       "array([<AxesSubplot:xlabel='Time', ylabel='Q'>,\n",
       "       <AxesSubplot:xlabel='Time', ylabel='T'>], dtype=object)"
      ]
     },
     "execution_count": 15,
     "metadata": {},
     "output_type": "execute_result"
    },
    {
     "data": {
      "image/png": "[encoded data removed]",
      "text/plain": [
       "<Figure size 1008x432 with 2 Axes>"
      ]
     },
     "metadata": {
      "needs_background": "light"
     },
     "output_type": "display_data"
    }
   ],
   "source": [
    "# plot the result\n",
    "utils.plot_world_df(world_df)"
   ]
  },
  {
   "cell_type": "code",
   "execution_count": null,
   "metadata": {},
   "outputs": [],
   "source": []
  },
  {
   "cell_type": "markdown",
   "metadata": {},
   "source": [
    "#### Another example"
   ]
  },
  {
   "cell_type": "code",
   "execution_count": null,
   "metadata": {},
   "outputs": [],
   "source": [
    "Q_sin = np.sin(np.linspace(0, 8, 12)) + np.linspace(0, 1, 12)\n",
    "world_df = utils.start_world_df(Q_sin)\n",
    "world_df[\"T\"] = simple_energy_balance(Q_sin, feedback_factor=1.36)\n",
    "utils.plot_world_df(world_df)"
   ]
  },
  {
   "cell_type": "markdown",
   "metadata": {},
   "source": [
    "In the cells above or in a new cell below, have a go at making some plots for yourself. Try changing the radiative forcing (Q) as well as the value of the global-mean feedback factor and see what changes."
   ]
  },
  {
   "cell_type": "markdown",
   "metadata": {},
   "source": [
    "### Climate Feedback Parameter\n",
    "\n",
    "Uncertainty in the value of the climate feedback parameter, $\\lambda_G$, means that it's 5-95% likely range is approximately [0.83, 2.5] W.m$^{-2}$.K$^{-1}$. Have a go at remaking your plots but now vary the value of the feedback parameter over this range and other ranges. \n",
    "\n",
    "- What impact does it have on your temperature pathways, if you change the feedback parameter?\n",
    "- Why do different values of climate sensitivity matter?"
   ]
  },
  {
   "cell_type": "markdown",
   "metadata": {},
   "source": [
    "#### Example: making plots with different values of the climate feedback parameter"
   ]
  },
  {
   "cell_type": "code",
   "execution_count": null,
   "metadata": {},
   "outputs": [],
   "source": [
    "axes = None\n",
    "Q_df = utils.start_world_df(np.arange(0, 8, 0.01))\n",
    "feedback_paras = np.arange(1.0, 2.0, 0.1)\n",
    "\n",
    "# using enumerate means that the variable 'i' will count which iteration of the loop we're on\n",
    "# climate_feedback_para will contain the value from the list feedback_paras\n",
    "for i, climate_feedback_para in enumerate(feedback_paras):\n",
    "    Q_df[\"T\"] = simple_energy_balance(\n",
    "        Q_df[\"Q\"], feedback_factor=climate_feedback_para\n",
    "    )\n",
    "\n",
    "    axes = utils.plot_world_df(\n",
    "        Q_df,\n",
    "        axes=axes,\n",
    "        label=\"$\\lambda_G$ = {:.2f} W / m^2 / K\".format(\n",
    "            climate_feedback_para\n",
    "        ),\n",
    "        color=(i / len(feedback_paras), 0, 0),\n",
    "        alpha=0.7,\n",
    "    )"
   ]
  },
  {
   "cell_type": "markdown",
   "metadata": {},
   "source": [
    "Make sure you understand how the `for` loop works in the cell above. Once you have, try changing the values which are looped over either in the cell above or a new cell."
   ]
  },
  {
   "cell_type": "markdown",
   "metadata": {},
   "source": [
    "### Reconciling Observations and Our Model\n",
    "\n",
    "Now that you have a feel for how our model behaves, we're going to see if we can make it reproduce historically observed temperatures.\n",
    "\n",
    "In the next cell, we make a plot to compare the predicted temperature change by our model and observed historical temperatures.\n",
    "\n",
    "<div class=\"alert alert-warning\">\n",
    "  <i>Warning!</i> As our model is a perturbation model, i.e. simulates global-mean temperature change from some pre-industrial equilibrium, we have to be a little bit careful when comparing it to observations. In particular, we have to make sure that we are comparing the change from the same baseline. In other words, zero has to be at the same point (if the observations are relative to the 1961-1990 mean then our model results should also be reported relative to the 1961-1990 mean). \n",
    "</div>"
   ]
  },
  {
   "cell_type": "code",
   "execution_count": null,
   "metadata": {},
   "outputs": [],
   "source": [
    "# load an estimate of historical radiative forcing\n",
    "model_df = utils.read_ar6_erf_file(\n",
    "    join(\n",
    "        DATA_PATH_COMMON,\n",
    "        \"ar6_erf_data\",\n",
    "        \"AR6_ERF_1750-2019.csv\",\n",
    "    )\n",
    ")\n",
    "model_df[\"T\"] = simple_energy_balance(\n",
    "    model_df[\"Q\"], feedback_factor=1.36\n",
    ")\n",
    "\n",
    "# load observed temperatures\n",
    "observed = load_global_mean_temp(HADCRUT4_ANNUAL_MEAN_TXT)\n",
    "\n",
    "# now plot the model versus observations.\n",
    "utils.plot_model_vs_obs(model_df, observed)\n",
    "\n",
    "# BTW: you are provided with this little helper function \"plot_model_vs_obs\", which automatically\n",
    "# adjusts the temperature timeseries to have a zero mean over 1961-1990\n",
    "# (For those wanting to know the details:\n",
    "# You can look up the little helper function and how it adjusts the timeseries\n",
    "# at the end of the utils.py file in this folder week_1, where the function\n",
    "# 'plot_model_vs_obs' is defined.)"
   ]
  },
  {
   "cell_type": "markdown",
   "metadata": {},
   "source": [
    "As you can see, the two are surprisingly close at some points in time. However the large drops in model temperature are clearly not reflected in the real world and we're too warm towards the end of the 20$^{\\text{th}}$ Century. To finish this exercise, we're going to look at how we can reduce this difference. "
   ]
  },
  {
   "cell_type": "markdown",
   "metadata": {},
   "source": [
    "#### Tune feedback parameter\n",
    "\n",
    "\n",
    "In the next cell, try varying the value of the feedback parameter and see if you can make the fit between the model prediction and observations better."
   ]
  },
  {
   "cell_type": "code",
   "execution_count": null,
   "metadata": {},
   "outputs": [],
   "source": [
    "model_df[\"T\"] = simple_energy_balance(\n",
    "    model_df[\"Q\"], feedback_factor=1.36\n",
    ")\n",
    "\n",
    "utils.plot_model_vs_obs(model_df, observed)"
   ]
  },
  {
   "cell_type": "markdown",
   "metadata": {},
   "source": [
    "In the next cell, write a `for` loop to see how the model's behaviour varies as a function of the feedback factor."
   ]
  },
  {
   "cell_type": "code",
   "execution_count": null,
   "metadata": {
    "solution2": "hidden",
    "solution2_first": true
   },
   "outputs": [],
   "source": [
    "# write your loop here\n",
    "# a hint can be found below"
   ]
  },
  {
   "cell_type": "code",
   "execution_count": null,
   "metadata": {
    "solution2": "hidden"
   },
   "outputs": [],
   "source": [
    "# your code should look something like this\n",
    "# for feedback_factor in values_to_plot:\n",
    "#     run_model\n",
    "#     make_plot"
   ]
  },
  {
   "cell_type": "code",
   "execution_count": null,
   "metadata": {
    "solution2": "hidden",
    "solution2_first": true
   },
   "outputs": [],
   "source": [
    "# a further hint is below"
   ]
  },
  {
   "cell_type": "code",
   "execution_count": null,
   "metadata": {
    "solution2": "hidden"
   },
   "outputs": [],
   "source": [
    "# # we did this with code like\n",
    "# for feedback_factor in np.arange(lower_limit, upper_limit, step_size):\n",
    "#     calculation of temperature using simple_energy_balance\n",
    "#     plot using utils.plot_model_vs_obs"
   ]
  },
  {
   "cell_type": "code",
   "execution_count": null,
   "metadata": {
    "solution2": "hidden",
    "solution2_first": true
   },
   "outputs": [],
   "source": [
    "# our solution is below"
   ]
  },
  {
   "cell_type": "code",
   "execution_count": null,
   "metadata": {
    "solution2": "hidden"
   },
   "outputs": [],
   "source": [
    "# This produces lots of plots, but gets the job done\n",
    "for f in np.arange(0.2, 3.51, 0.5):\n",
    "    model_df[\"T\"] = simple_energy_balance(\n",
    "        model_df[\"Q\"], feedback_factor=f\n",
    "    )\n",
    "\n",
    "    utils.plot_model_vs_obs(model_df, observed)\n",
    "\n",
    "    # and if you want to know, which plot row belongs to which paramater,\n",
    "    # you could insert that information as titles for the axes for example like this.\n",
    "    plt.suptitle(f\"Model feedback parameter {f:.2f} W / m^2 / K\")\n",
    "    # this line neatens things up (see what happens if you remove it)\n",
    "    plt.tight_layout()"
   ]
  },
  {
   "cell_type": "markdown",
   "metadata": {},
   "source": [
    "Clearly, varying the value of parameters by hand is a very inefficient and error-prone way of finding a good fit. Fortunately, a number of packages exist which can do this sort of fitting for us. Examining how they work in detail now is beyond the scope of the course. For those who are interested, we provide an example of doing an optimisation in the extension."
   ]
  },
  {
   "cell_type": "markdown",
   "metadata": {},
   "source": [
    "Hopefully you have now found a value for the feedback factor which allows our simple model to somewhat reproduce observed temperature changes over the 21<sup>st</sup> Century. Does this value make sense to you? (In particular, think about our assumption of equilibrium.) Be ready to discuss your answers in next week's tutorial."
   ]
  },
  {
   "cell_type": "markdown",
   "metadata": {},
   "source": [
    "## Summary\n",
    "\n",
    "- A simple energy balance model provides a simple way to simulate global-mean temperature response to radiative forcing\n",
    "- In equilibrium with sufficient tuning, it can somewhat reproduce observed global-mean temperatures, this may be good enough for some applications"
   ]
  },
  {
   "cell_type": "markdown",
   "metadata": {},
   "source": [
    "## Conclusion\n",
    "\n",
    "We have examined the behaviour of our simple energy balance model\n",
    "\n",
    "$$\\Delta Q_G = \\lambda_G \\Delta T_{G} + \\frac{dH}{dt}$$\n",
    "\n",
    "in equilibrium (i.e. assuming $\\frac{dH}{dt}=0$). We looked at how it is able to reproduce observations. In the extension, we show how to examine how it responds to different radiative forcing scenarios and how a non-equilibrium assumption can be (somewhat) included.\n",
    "\n",
    "You should also now have a feel for how the notebooks we will use in this course work and have been able to run the notebooks and produce a number of plots.\n",
    "\n",
    "In the next lecture we will move onto radiative forcing and its link with concentrations. This adds a new link in our cause-effect chain, on top of the one we have explored today between radiative forcing and global-mean temperature. \n",
    "\n",
    "That concludes exercise 1, we look forward to seeing you next week to discuss it in class!"
   ]
  },
  {
   "cell_type": "markdown",
   "metadata": {},
   "source": [
    "## Acknowledgements\n",
    "\n",
    "These notebooks are supported by Science IT at the University of Melbourne."
   ]
  },
  {
   "cell_type": "markdown",
   "metadata": {},
   "source": [
    "## Extensions\n",
    "\n",
    "<div class=\"alert alert-warning\">\n",
    "  <i>Warning!</i> The code in this section becomes significantly more complicated. If coding is not something you are very familiar with, start by focussing on the text and outputs, then come back and look at the code after.\n",
    "</div>"
   ]
  },
  {
   "cell_type": "markdown",
   "metadata": {},
   "source": [
    "### Running with different radiative forcing pathways\n",
    "\n",
    "Here we show how we can make projections with our model. That is, we project temperature for different radiative forcing pathway inputs. We take our radiative forcing pathway inputs from the quantification of radiative forcing produced as part of the AR6 process (https://github.com/chrisroadmap/ar6/tree/main/data_output/SSPs)."
   ]
  },
  {
   "cell_type": "code",
   "execution_count": null,
   "metadata": {},
   "outputs": [],
   "source": [
    "# first, we define our ssps and the colour we want to use for each SSP as a dictionary.\n",
    "plot_colors = {\n",
    "    \"ssp119\": \"cyan\",\n",
    "    \"ssp126\": \"tab:blue\",\n",
    "    \"ssp245\": \"green\",\n",
    "    \"ssp434\": \"blue\",\n",
    "    \"ssp460\": \"yellow\",\n",
    "    \"ssp370\": \"orange\",\n",
    "    \"ssp585\": \"red\",\n",
    "    \"ssp534-over\": \"hotpink\",\n",
    "}\n",
    "\n",
    "# second, we create a dictionary to hold the ssps, their data,\n",
    "# their colour etc all in one place using a 'dictionary\n",
    "# comprehension'\n",
    "ssps = {ssp: {\"colour\": plot_colors[ssp]} for ssp in plot_colors}\n",
    "\n",
    "for ssp in ssps:\n",
    "    file_name = \"ERF_{}_1750-2500.csv\".format(\n",
    "        ssp\n",
    "    )  # doing a substitution like this requires regulary-named files\n",
    "    ssps[ssp][\"df\"] = utils.read_ar6_erf_file(\n",
    "        join(\n",
    "            DATA_PATH_COMMON,\n",
    "            \"ar6_erf_data\",\n",
    "            \"AR6_ERF_{}_1750-2500.csv\".format(ssp),\n",
    "        )\n",
    "    )\n",
    "\n",
    "# fourth, we calculate our simple model's response to each of\n",
    "# the forcing timeseries\n",
    "for ssp in ssps:\n",
    "    ssps[ssp][\"df\"][\"T\"] = simple_energy_balance(\n",
    "        ssps[ssp][\"df\"][\"Q\"], feedback_factor=1.36\n",
    "    )\n",
    "\n",
    "# lastly, we make a plot with our simple model's response to\n",
    "# each of the ssp forcing timeseries\n",
    "axes = None\n",
    "for ssp in ssps:\n",
    "    axes = utils.plot_world_df(\n",
    "        ssps[ssp][\"df\"], axes=axes, label=ssp, color=ssps[ssp][\"colour\"]\n",
    "    )"
   ]
  },
  {
   "cell_type": "markdown",
   "metadata": {},
   "source": [
    "### Your Turn\n",
    "\n",
    "Now that you've seen how to run and plot the results from our model, it's your turn. Try changing the radiative forcing pathways and seeing how the model responds. \n",
    "\n",
    "- Can you find a pathway which stays under 2K, 1.5K?\n",
    "- Do any pathways exceed 10K warming by 2150?\n",
    "\n",
    "<div class=\"alert alert-info\">\n",
    "  <i>Info!</i> Your starting point will probably be copying and pasting some of the code above so you can modify it for yourself. \n",
    "</div>"
   ]
  },
  {
   "cell_type": "code",
   "execution_count": null,
   "metadata": {},
   "outputs": [],
   "source": [
    "# have a go making and plotting your own scenarios here\n",
    "\n",
    "# some useful example code snippets may include:\n",
    "# - alter the value of the year 1980\n",
    "# df.loc[1980]['Q'] = 12.\n",
    "\n",
    "# - alter the value of the years 1975-1991\n",
    "# df.loc[1975:1991]['Q'] = 12.3"
   ]
  },
  {
   "cell_type": "markdown",
   "metadata": {},
   "source": [
    "<div class=\"alert alert-danger\">\n",
    "  <i>Danger!</i> In more complex projects, duplicating code like this is very likely to backfire (see number 1 in  <a href=\"https://blog.codacy.com/7-software-development-shortcuts-that-will-backfire-50f56612264c\">this article</a> ).\n",
    "\n",
    "  Hence, whilst we while we will ocassionally make this error whilst teaching for simplicity's sake, you should be aware that it is completely the opposite of good practice and should avoid it when writing your own code.\n",
    "\n",
    "  Instead of duplicating code, it is much better to put things which you will use frequently into functions or modules which can be reused. That way, if you find a bug/error, you only need to fix it once!\n",
    "</div>\n",
    "\n",
    "<div class=\"alert alert-info\">\n",
    "  <i>Info!</i> The resources from <a href=\"https://www.digitalocean.com/community/tutorials/how-to-define-functions-in-python-3\">Digital Ocean</a> are a great starting point for learning more about functions, modules, loops and everything else Python.\n",
    "</div>"
   ]
  },
  {
   "cell_type": "markdown",
   "metadata": {},
   "source": [
    "Having experimented with different radiative forcing pathways and their equilibrium warming, think about how transient warming might behave. Specifically, we would like you to consider the following: \n",
    "\n",
    "- If you want to meet a given temperature goal in 2100, does the radiative forcing pathway make any difference or is it only the value of radiative forcing in 2100 which matters? \n",
    "\n",
    "Write down some thoughts about what this means about the simple equilibrium model, we will return to these later in the notebook and in the course."
   ]
  },
  {
   "cell_type": "markdown",
   "metadata": {},
   "source": [
    "#### Estimate Ocean Heat Uptake\n",
    "\n",
    "Returning to our original energy balance equation, \n",
    "\n",
    "$$\\Delta Q_G = \\lambda_G \\Delta T_{G} + \\frac{dH}{dt}$$\n",
    "\n",
    "we recall that we have been assuming that ocean heat uptake has been zero throughout this exercise. As we know, this is a highly idealised assumption. Hence, the other way to find out why our default model differs from observed temperatures would be to take a median estimate of the global-mean feedback factor and estimate the amount of ocean heat uptake required for our model to fit observations, i.e. solving\n",
    "\n",
    "$$\\frac{dH}{dt} = \\Delta Q_G - \\lambda_G \\Delta T_{G}$$\n",
    "\n",
    "The tricky part here is that we need our temperature observations to be relative to pre-industrial. As we don't have pre-industrial temperature observations, for now the best we can do is compare them to some early reference period (investigating the impact of choices like this is something we will consider later in the course)."
   ]
  },
  {
   "cell_type": "code",
   "execution_count": null,
   "metadata": {},
   "outputs": [],
   "source": [
    "# Remember: if the code here is confusing, you can simply run it and skip\n",
    "# to the next cell. It is merely defining a helper function and\n",
    "# showing how it behaves with a plot.\n",
    "\n",
    "# Define a function to read in observed temperatures and\n",
    "# historical radiative forcing and return them on the same time\n",
    "# axis.\n",
    "def load_obs_historical_rf_common_time(\n",
    "    plot=False, base_period=[1850, 1900]\n",
    "):\n",
    "    # First we average the observations to annual values\n",
    "    observed = load_global_mean_temp(HADCRUT4_ANNUAL_MEAN_TXT)\n",
    "\n",
    "    # then we make observations relative to baseline\n",
    "    start = base_period[0]\n",
    "    end = base_period[1]\n",
    "    observed_annual_mean_baselined = (\n",
    "        observed - observed.loc[start:end].mean()\n",
    "    )\n",
    "\n",
    "    # next we load historical RF\n",
    "    Q = utils.read_ar6_erf_file(\n",
    "        join(\n",
    "            DATA_PATH_COMMON,\n",
    "            \"ar6_erf_data\",\n",
    "            \"AR6_ERF_1750-2019.csv\",\n",
    "        )\n",
    "    )\n",
    "\n",
    "    # then we find their common years\n",
    "    common_time = Q.index.intersection(\n",
    "        observed_annual_mean_baselined.index\n",
    "    )\n",
    "    observed_annual_mean_baselined_common_time = (\n",
    "        observed_annual_mean_baselined.loc[common_time]\n",
    "    )\n",
    "    Q_common_time = Q.loc[common_time]\n",
    "\n",
    "    # if we want, we can now make a plot\n",
    "    if plot:\n",
    "        fig, axes = plt.subplots(figsize=(14, 6), nrows=1, ncols=2)\n",
    "\n",
    "        observed.iloc[:, 0].plot(ax=axes[0], label=\"Annual mean obs\")\n",
    "        annual_mean_text = (\n",
    "            \"Annual mean obs\\nrelative to {}-{} mean\".format(start, end)\n",
    "        )\n",
    "        observed_annual_mean_baselined.iloc[:, 0].plot(\n",
    "            ax=axes[0], label=annual_mean_text\n",
    "        )\n",
    "        observed_annual_mean_baselined_common_time.iloc[:, 0].plot(\n",
    "            ax=axes[0], label=annual_mean_text + \" common time\", ls=\"--\"\n",
    "        )\n",
    "        axes[0].legend()\n",
    "\n",
    "        Q[\"Q\"].plot(ax=axes[1], label=\"Raw Q\")\n",
    "        Q_common_time[\"Q\"].plot(\n",
    "            ax=axes[1], label=\"Q common time\", ls=\"--\"\n",
    "        )\n",
    "        axes[1].legend()\n",
    "\n",
    "    # lastly, returning the values we want in a dictionary\n",
    "    return {\n",
    "        \"obs_T\": observed_annual_mean_baselined_common_time,\n",
    "        \"historical_RF\": Q_common_time,\n",
    "    }\n",
    "\n",
    "\n",
    "# we can have a look at how the loading function works with\n",
    "load_obs_historical_rf_common_time(plot=True, base_period=[1861, 1880])"
   ]
  },
  {
   "cell_type": "code",
   "execution_count": null,
   "metadata": {},
   "outputs": [],
   "source": [
    "inputs = load_obs_historical_rf_common_time()\n",
    "feedback_factor = 1.36\n",
    "ocn_heat_uptake_label = \"Ocean Heat Uptake (W.m$^{-2}$)\"\n",
    "\n",
    "ocean_heat_uptake = (\n",
    "    inputs[\"historical_RF\"].iloc[:, 0]\n",
    "    - feedback_factor * inputs[\"obs_T\"].iloc[:, 0]\n",
    ").to_frame(name=ocn_heat_uptake_label)\n",
    "\n",
    "ocean_heat_uptake.plot()"
   ]
  },
  {
   "cell_type": "markdown",
   "metadata": {},
   "source": [
    "Now, assuming that our default feedback parameter is the correct one. Then we derive this above ocean heat uptake in order to explain historical temperatures. If that is true, then ocean heat uptake is a significant part of the overall energy balance equation (same order of magnitude as radiative forcing) and hence ignoring it makes our equilibrium model highly idealised. Exploring ocean heat content and its impact on climate in more detail will be done later in the course. For now, the key message is that ignoring the ocean's impact on climate makes it very hard to create a model which reproduces observations. \n",
    "\n",
    "That the oceans with their huge water masses play a very important role in our climate is intuitively clear. Here, these above equations allow us to comprehend just how important the oceans might be. Without the ocean heat uptake, we would see the equilibrium temperature response, i.e. a much higher warming. Oceans hence act like a very big buffer, i.e. creating inertia in the Earth System. \n",
    "\n",
    "For those who are interested, we show below how you can convert from energy flux into the ocean into absolute ocean heat content. "
   ]
  },
  {
   "cell_type": "code",
   "execution_count": null,
   "metadata": {},
   "outputs": [],
   "source": [
    "# NBVAL_IGNORE_OUTPUT\n",
    "fig, axes = plt.subplots(figsize=(14, 6), nrows=1, ncols=2)\n",
    "ocean_heat_uptake.plot(ax=axes[0])\n",
    "\n",
    "seconds_per_year = 60 * 60 * 24 * 365  # s\n",
    "area_of_earth = 510.1 * 10 ** 12  # m^2\n",
    "energy_flux_to_absolute_conversion_factor = (\n",
    "    seconds_per_year * area_of_earth\n",
    ")\n",
    "ocean_heat_uptake_cumulative = (\n",
    "    ocean_heat_uptake[ocn_heat_uptake_label].cumsum()\n",
    "    * energy_flux_to_absolute_conversion_factor\n",
    ")\n",
    "ocean_heat_uptake_cumulative.plot(\n",
    "    ax=axes[1], label=\"Cumulative Ocean Heat Uptake (J)\"\n",
    ")\n",
    "axes[0].set_ylabel(\"Ocean Heat Uptake (W m$^{-2}$)\")\n",
    "axes[1].set_ylabel(\"Cumulative Ocean Heat Uptake (Joule)\")\n",
    "axes[1].legend()"
   ]
  },
  {
   "cell_type": "markdown",
   "metadata": {},
   "source": [
    "On the right side in the above plots, you see the overall heat gain by the oceans in Joule. A lot of Joule's, i.e. 10$^{23}$. That is usually the unit (and magnitude) in which the heat gain by the oeans is measured and it lets us estimate the extent to which the ocean thermosteric expansion (i.e. warm water expands) contributed to sea level rise (but more on that later). \n",
    "\n",
    "\n",
    "Lastly we show how the full picture of radiative forcing, increases in global-mean temperature and ocean heat content looks when put all together. Such a figure shows how much heat the ocean must have taken up if we assume that our simple model is an adequate representation of the Earth, that we have good observations of global-mean temperatures, that we have a good estimate of historical radiative forcing and that the global-mean feedback factor is 1.36 W.m$^{-2}$.K$^{-1}$. Clearly, these are a lot of assumptions which we would investigate much more thoroughly before making any strong claims."
   ]
  },
  {
   "cell_type": "code",
   "execution_count": null,
   "metadata": {},
   "outputs": [],
   "source": [
    "fig, axes = plt.subplots(figsize=(14, 6), nrows=2, ncols=2)\n",
    "\n",
    "inputs[\"historical_RF\"].plot(ax=axes[0, 0], color=\"orange\")\n",
    "axes[0, 0].set_ylabel(\"W m$^{-2}$\")\n",
    "\n",
    "inputs[\"obs_T\"].plot(ax=axes[0, 1], color=\"red\")\n",
    "axes[0, 1].set_ylabel(\"K\")\n",
    "\n",
    "ocean_heat_uptake.plot(ax=axes[1, 0])\n",
    "axes[1, 0].set_ylabel(\"W m$^{-2}$\")\n",
    "\n",
    "ocean_heat_uptake_cumulative.plot(\n",
    "    ax=axes[1, 1],\n",
    "    label=\"Cumulative Ocean Heat Uptake (J)\",\n",
    "    color=\"green\",\n",
    ")\n",
    "axes[1, 1].set_ylabel(\"J\")\n",
    "axes[1, 1].legend()\n",
    "plt.tight_layout()  # fix the spacing in our plot"
   ]
  },
  {
   "cell_type": "markdown",
   "metadata": {},
   "source": [
    "#### Comment\n",
    "\n",
    "Reconciling observations and our model is clearly possible if we vary either climate feedback parameter, the ocean heat uptake, or both. At the moment, both of these quantities are unknowns for us and we have no way of constraining them. That is to say: at this point in the course, we don't know... but yes, there are methods to do this constraining - more on that later. Hence, whilst we can make our model match up with observations, we don't know if the assumptions we're making in doing so are valid or not. \n",
    "\n",
    "Later in the course we'll look at ways to constrain these quantities and many other key parameters. This will allow us to have more confidence in our model's behaviour and make a better assessment of whether it is appropriate for use in a given context or not."
   ]
  },
  {
   "cell_type": "markdown",
   "metadata": {},
   "source": [
    "### Optimising Climate Feedback Factor\n",
    "\n",
    "Here we show how you can optimise the climate feedback factor using SciPy's `optimize` package. We have initially hidden our solution in case you want to have a go yourself first (you may come up with a better solution than us!)."
   ]
  },
  {
   "cell_type": "code",
   "execution_count": null,
   "metadata": {
    "solution2": "hidden",
    "solution2_first": true
   },
   "outputs": [],
   "source": [
    "# if you wish, try deriving your own solution here"
   ]
  },
  {
   "cell_type": "code",
   "execution_count": null,
   "metadata": {
    "solution2": "hidden"
   },
   "outputs": [],
   "source": [
    "# define a function to return the difference between observations\n",
    "# and temperature for a given value of the feedback_factor.\n",
    "# Because of the way the scipy.optimize library works, we have to\n",
    "# put the parameter we want to tune, in this case feedback_factor,\n",
    "# as the first argument (i.e. argument order matters here)\n",
    "def obs_model_difference(feedback_factor, assumed_Q, T_observed):\n",
    "    out = assumed_Q.copy()\n",
    "\n",
    "    out[\"T\"] = simple_energy_balance(\n",
    "        assumed_Q[\"Q\"].values.squeeze(), feedback_factor\n",
    "    )\n",
    "    # rebaseline to do fair comparison\n",
    "    T_model_baseline = out[\"T\"] - out[\"T\"].loc[1850:1900].mean()\n",
    "    T_observed -= T_observed.loc[1850:1900].mean()\n",
    "    return np.array(\n",
    "        T_observed.values.squeeze() - T_model_baseline.values.squeeze()\n",
    "    )\n",
    "\n",
    "\n",
    "# do the optimisation\n",
    "p0 = 1.36\n",
    "inputs = load_obs_historical_rf_common_time()\n",
    "T_observed = inputs[\"obs_T\"]\n",
    "assumed_Q = inputs[\"historical_RF\"]\n",
    "popt, pcov = scipy.optimize.leastsq(\n",
    "    obs_model_difference, p0, args=(assumed_Q, T_observed)\n",
    ")\n",
    "\n",
    "feedback_factor_optimal = popt[0]\n",
    "print(\n",
    "    \"Optimized feedback parameter is {:.2f} W/m^2/K\".format(\n",
    "        feedback_factor_optimal\n",
    "    )\n",
    ")\n",
    "\n",
    "# plot the results\n",
    "res = assumed_Q.copy()\n",
    "res[\"T\"] = simple_energy_balance(\n",
    "    assumed_Q[\"Q\"], feedback_factor=feedback_factor_optimal\n",
    ")\n",
    "utils.plot_model_vs_obs(res, T_observed, ref_period=[1850, 1900])"
   ]
  },
  {
   "cell_type": "markdown",
   "metadata": {},
   "source": [
    "The optimisation produces a result which is suprisingly similar to observations given how simple our model is. Hence, in some cases, one could think that even a simple model without heat-uptake may be adequate. The earliest climate models just consisted of an atmosphere and the Earth's thermal inertia was either not at all, or only simplistically taken into account. However, given that we know about the Earth's system's properties with ocean inertia and so on, there are few justifications for not taking it into account for future projections. Hence we will include ocean inertia etc. later on in this course. "
   ]
  }
 ],
 "metadata": {
  "kernelspec": {
   "display_name": "Python 3",
   "language": "python",
   "name": "python3"
  },
  "language_info": {
   "codemirror_mode": {
    "name": "ipython",
    "version": 3
   },
   "file_extension": ".py",
   "mimetype": "text/x-python",
   "name": "python",
   "nbconvert_exporter": "python",
   "pygments_lexer": "ipython3",
   "version": "3.7.8"
  }
 },
 "nbformat": 4,
 "nbformat_minor": 2
}
